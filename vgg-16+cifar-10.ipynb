{
 "cells": [
  {
   "cell_type": "code",
   "execution_count": 1,
   "metadata": {},
   "outputs": [],
   "source": [
    "import torch\n",
    "from torch import nn\n",
    "import torch.nn.utils.prune as prune\n",
    "import torch.nn.functional as F\n",
    "import torch\n",
    "import torch.nn as nn\n",
    "import torch.nn.functional as F\n",
    "import torch.optim as optim\n",
    "import torchvision\n",
    "import torchvision.transforms as transforms\n",
    "import torch.nn.utils.prune as prune\n",
    "import pandas as pd\n",
    "import matplotlib.pyplot as plt\n",
    "import numpy as np\n",
    "import torch.optim.lr_scheduler\n",
    "from torchvision import datasets, transforms\n",
    "from torch.optim.lr_scheduler import StepLR\n",
    "from torch.autograd import Variable\n",
    "from torchvision.models import alexnet\n",
    "# from thop import profile\n",
    "# from torch.utils.tensorboard import SummaryWriter"
   ]
  },
  {
   "cell_type": "code",
   "execution_count": 2,
   "metadata": {},
   "outputs": [],
   "source": [
    "train_batch_size = 64\n",
    "test_batch_size=100\n",
    "num_classes = 100\n",
    "learning_rate = 0.001\n",
    "num_epochs = 100\n",
    "lambda_l2 = 0.01\n",
    "pruning_amount = 0.2\n",
    "device = torch.device(\"cuda:0\" if torch.cuda.is_available() else \"cpu\")"
   ]
  },
  {
   "cell_type": "code",
   "execution_count": 9,
   "metadata": {},
   "outputs": [],
   "source": [
    "transform_train=transforms.Compose([\n",
    "    transforms.RandomCrop(32,padding=4),\n",
    "    transforms.RandomHorizontalFlip(),\n",
    "    transforms.ToTensor(),\n",
    "    transforms.Normalize((0.4914, 0.4822, 0.4465), (0.2023, 0.1994, 0.2010))\n",
    "])\n",
    "\n",
    "transform_test=transforms.Compose([\n",
    "    transforms.ToTensor(),\n",
    "    transforms.Normalize((0.4914, 0.4822, 0.4465), (0.2023, 0.1994, 0.2010))\n",
    "])"
   ]
  },
  {
   "cell_type": "code",
   "execution_count": 10,
   "metadata": {},
   "outputs": [
    {
     "name": "stdout",
     "output_type": "stream",
     "text": [
      "Downloading https://www.cs.toronto.edu/~kriz/cifar-10-python.tar.gz to ./data\\cifar-10-python.tar.gz\n"
     ]
    },
    {
     "data": {
      "application/vnd.jupyter.widget-view+json": {
       "model_id": "29f9954abfbc4634969dff3228bddcee",
       "version_major": 2,
       "version_minor": 0
      },
      "text/plain": [
       "  0%|          | 0/170498071 [00:00<?, ?it/s]"
      ]
     },
     "metadata": {},
     "output_type": "display_data"
    }
   ],
   "source": [
    "train_dataset = torchvision.datasets.CIFAR10(root='./data', train=True, download=True, transform=transform_train)\n",
    "test_dataset = torchvision.datasets.CIFAR10(root='./data', train=False, download=True, transform=transform_test)\n",
    "train_loader = torch.utils.data.DataLoader(train_dataset, batch_size=train_batch_size, shuffle=True, num_workers=2)\n",
    "test_loader = torch.utils.data.DataLoader(test_dataset, batch_size=test_batch_size, shuffle=False, num_workers=2)\n",
    "valid_loader = torch.utils.data.DataLoader(test_dataset, batch_size=test_batch_size,\n",
    "                                         shuffle=False, num_workers=2)"
   ]
  },
  {
   "cell_type": "code",
   "execution_count": 3,
   "metadata": {},
   "outputs": [],
   "source": [
    "device=torch.device(\"cuda\" if torch.cuda.is_available() else \"cpu\")\n",
    "class VGG(nn.Module):\n",
    "  def __init__(self):\n",
    "    super(VGG,self).__init__()\n",
    "    self.conv1_1 = nn.Conv2d(3, 64, kernel_size=3, padding=1)\n",
    "    self.bn1_1 = nn.BatchNorm2d(64)\n",
    "    self.relu1_1 = nn.ReLU(inplace=True)\n",
    "    self.conv1_2 = nn.Conv2d(64, 64, kernel_size=3, padding=1)\n",
    "    self.bn1_2 = nn.BatchNorm2d(64)\n",
    "    self.relu1_2 = nn.ReLU(inplace=True)\n",
    "    self.maxpool1 = nn.MaxPool2d(kernel_size=2, stride=2)\n",
    "\n",
    "    self.conv2_1 = nn.Conv2d(64, 128, kernel_size=3, padding=1)\n",
    "    self.bn2_1 = nn.BatchNorm2d(128)\n",
    "    self.relu2_1 = nn.ReLU(inplace=True)\n",
    "    self.conv2_2 = nn.Conv2d(128, 128, kernel_size=3, padding=1)\n",
    "    self.bn2_2 = nn.BatchNorm2d(128)\n",
    "    self.relu2_2 = nn.ReLU(inplace=True)\n",
    "    self.maxpool2 = nn.MaxPool2d(kernel_size=2, stride=2)\n",
    "\n",
    "    self.conv3_1 = nn.Conv2d(128, 256, kernel_size=3, padding=1)\n",
    "    self.bn3_1 = nn.BatchNorm2d(256)\n",
    "    self.relu3_1 = nn.ReLU(inplace=True)\n",
    "    self.conv3_2 = nn.Conv2d(256, 256, kernel_size=3, padding=1)\n",
    "    self.bn3_2 = nn.BatchNorm2d(256)\n",
    "    self.relu3_2 = nn.ReLU(inplace=True)\n",
    "    self.conv3_3 = nn.Conv2d(256, 256, kernel_size=3, padding=1)\n",
    "    self.bn3_3 = nn.BatchNorm2d(256)\n",
    "    self.relu3_3 = nn.ReLU(inplace=True)\n",
    "    self.maxpool3 = nn.MaxPool2d(kernel_size=2, stride=2)\n",
    "\n",
    "    self.conv4_1 = nn.Conv2d(256, 512, kernel_size=3, padding=1)\n",
    "    self.bn4_1 = nn.BatchNorm2d(512)\n",
    "    self.relu4_1 = nn.ReLU(inplace=True)\n",
    "    self.conv4_2 = nn.Conv2d(512, 512, kernel_size=3, padding=1)\n",
    "    self.bn4_2 = nn.BatchNorm2d(512)\n",
    "    self.relu4_2 = nn.ReLU(inplace=True)\n",
    "    self.conv4_3 = nn.Conv2d(512, 512, kernel_size=3, padding=1)\n",
    "    self.bn4_3 = nn.BatchNorm2d(512)\n",
    "    self.relu4_3 = nn.ReLU(inplace=True)\n",
    "    self.maxpool4 = nn.MaxPool2d(kernel_size=2, stride=2)\n",
    "\n",
    "    self.conv5_1 = nn.Conv2d(512, 512, kernel_size=3, padding=1)\n",
    "    self.bn5_1 = nn.BatchNorm2d(512)\n",
    "    self.relu5_1 = nn.ReLU(inplace=True)\n",
    "    self.conv5_2 = nn.Conv2d(512, 512, kernel_size=3, padding=1)\n",
    "    self.bn5_2 = nn.BatchNorm2d(512)\n",
    "    self.relu5_2 = nn.ReLU(inplace=True)\n",
    "    self.conv5_3 = nn.Conv2d(512, 512, kernel_size=3, padding=1)\n",
    "    self.bn5_3 = nn.BatchNorm2d(512)\n",
    "    self.relu5_3 = nn.ReLU(inplace=True)\n",
    "    self.maxpool5 = nn.MaxPool2d(kernel_size=2, stride=2)\n",
    "\n",
    "    self.avgpool = nn.AvgPool2d(kernel_size=1,stride=1)\n",
    "    self.classifier = nn.Sequential(\n",
    "        nn.Linear(512 * 7 * 7, 4096),\n",
    "        nn.ReLU(inplace=True),\n",
    "        nn.Dropout(),\n",
    "        nn.Linear(4096, 4096),\n",
    "        nn.ReLU(inplace=True),\n",
    "        nn.Dropout(),\n",
    "        nn.Linear(4096, 10)  # Adjust the output size for the number of classes in your task\n",
    "    )\n",
    "  def forward(self,x):\n",
    "    x = self.conv1_1(x)\n",
    "    x = self.bn1_1(x)\n",
    "    x = self.relu1_1(x)\n",
    "    x = self.conv1_2(x)\n",
    "    x = self.bn1_2(x)\n",
    "    x = self.relu1_2(x)\n",
    "    x = self.maxpool1(x)\n",
    "\n",
    "    x = self.conv2_1(x)\n",
    "    x = self.bn2_1(x)\n",
    "    x = self.relu2_1(x)\n",
    "    x = self.conv2_2(x)\n",
    "    x = self.bn2_2(x)\n",
    "    x = self.relu2_2(x)\n",
    "    x = self.maxpool2(x)\n",
    "\n",
    "    x = self.conv3_1(x)\n",
    "    x = self.bn3_1(x)\n",
    "    x = self.relu3_1(x)\n",
    "    x = self.conv3_2(x)\n",
    "    x = self.bn3_2(x)\n",
    "    x = self.relu3_2(x)\n",
    "    x = self.conv3_3(x)\n",
    "    x = self.bn3_3(x)\n",
    "    x = self.relu3_3(x)\n",
    "    x = self.maxpool3(x)\n",
    "\n",
    "    x = self.conv4_1(x)\n",
    "    x = self.bn4_1(x)\n",
    "    x = self.relu4_1(x)\n",
    "    x = self.conv4_2(x)\n",
    "    x = self.bn4_2(x)\n",
    "    x = self.relu4_2(x)\n",
    "    x = self.conv4_3(x)\n",
    "    x = self.bn4_3(x)\n",
    "    x = self.relu4_3(x)\n",
    "    x = self.maxpool4(x)\n",
    "\n",
    "    x = self.conv5_1(x)\n",
    "    x = self.bn5_1(x)\n",
    "    x = self.relu5_1(x)\n",
    "    x = self.conv5_2(x)\n",
    "    x = self.bn5_2(x)\n",
    "    x = self.relu5_2(x)\n",
    "    x = self.conv5_3(x)\n",
    "    x = self.bn5_3(x)\n",
    "    x = self.relu5_3(x)\n",
    "    x = self.maxpool5(x)\n",
    "\n",
    "    x = self.avgpool(x)\n",
    "    x = x.view(x.size(0), -1)\n",
    "    x = self.classifier(x)\n",
    "    return x"
   ]
  },
  {
   "cell_type": "code",
   "execution_count": 5,
   "metadata": {},
   "outputs": [],
   "source": [
    "model = VGG().to(device)\n",
    "# optimizer = optim.SGD(model.parameters(), lr=learning_rate, momentum=0.9, weight_decay=5e-4)\n",
    "# criterion = nn.CrossEntropyLoss()\n",
    "# scheduler = StepLR(optimizer, step_size=1, gamma=0.7)\n",
    "# total_step = len(train_loader)\n",
    "# loss_list = []\n",
    "# acc_list = []\n",
    "# writer = SummaryWriter()"
   ]
  },
  {
   "cell_type": "code",
   "execution_count": null,
   "metadata": {},
   "outputs": [],
   "source": [
    "conv1_1=model.conv1_1\n",
    "print(list(conv1_1.named_parameters()))"
   ]
  },
  {
   "cell_type": "code",
   "execution_count": 17,
   "metadata": {},
   "outputs": [
    {
     "data": {
      "text/plain": [
       "Conv2d(3, 64, kernel_size=(3, 3), stride=(1, 1), padding=(1, 1))"
      ]
     },
     "execution_count": 17,
     "metadata": {},
     "output_type": "execute_result"
    }
   ],
   "source": [
    "prune.random_unstructured(conv1_1,name=\"weight\",amount=0.5)"
   ]
  },
  {
   "cell_type": "code",
   "execution_count": null,
   "metadata": {},
   "outputs": [],
   "source": [
    "conv1_1.weight"
   ]
  },
  {
   "cell_type": "code",
   "execution_count": null,
   "metadata": {},
   "outputs": [],
   "source": [
    "print(list(conv1_1.named_parameters()))"
   ]
  },
  {
   "cell_type": "code",
   "execution_count": null,
   "metadata": {},
   "outputs": [],
   "source": [
    "conv1_1.weight_mask"
   ]
  },
  {
   "cell_type": "code",
   "execution_count": 22,
   "metadata": {},
   "outputs": [
    {
     "data": {
      "text/plain": [
       "Conv2d(3, 64, kernel_size=(3, 3), stride=(1, 1), padding=(1, 1))"
      ]
     },
     "execution_count": 22,
     "metadata": {},
     "output_type": "execute_result"
    }
   ],
   "source": [
    "prune.l1_unstructured(conv1_1,name=\"weight\",amount=0.5)"
   ]
  },
  {
   "cell_type": "code",
   "execution_count": 25,
   "metadata": {},
   "outputs": [
    {
     "data": {
      "text/plain": [
       "tensor([[[[-0.1486, -0.0000, -0.0000],\n",
       "          [ 0.0000, -0.0000, -0.1625],\n",
       "          [-0.0000, -0.0000, -0.1638]],\n",
       "\n",
       "         [[-0.1615,  0.0000, -0.0000],\n",
       "          [ 0.1769, -0.0000,  0.0000],\n",
       "          [ 0.1423,  0.0000,  0.0000]],\n",
       "\n",
       "         [[-0.0000,  0.0000,  0.0000],\n",
       "          [ 0.1842,  0.0000, -0.0000],\n",
       "          [-0.0000, -0.1821, -0.1635]]],\n",
       "\n",
       "\n",
       "        [[[-0.0000,  0.0000, -0.0000],\n",
       "          [-0.1611,  0.1052, -0.0000],\n",
       "          [ 0.0000,  0.1434, -0.0000]],\n",
       "\n",
       "         [[ 0.0000,  0.0000,  0.0000],\n",
       "          [ 0.0000, -0.0000, -0.0000],\n",
       "          [ 0.0000,  0.1089,  0.0000]],\n",
       "\n",
       "         [[-0.0000, -0.0000, -0.0000],\n",
       "          [-0.0000, -0.1470, -0.1321],\n",
       "          [ 0.0000,  0.0000,  0.1294]]],\n",
       "\n",
       "\n",
       "        [[[ 0.0000, -0.0000, -0.0000],\n",
       "          [ 0.0000, -0.1312,  0.0000],\n",
       "          [ 0.0000, -0.0000, -0.0000]],\n",
       "\n",
       "         [[-0.0000,  0.0000, -0.1555],\n",
       "          [ 0.0000, -0.1685,  0.0000],\n",
       "          [-0.1667,  0.1911,  0.0000]],\n",
       "\n",
       "         [[-0.0000, -0.0000, -0.1804],\n",
       "          [-0.0000, -0.0000,  0.0000],\n",
       "          [ 0.0000,  0.0000,  0.0000]]],\n",
       "\n",
       "\n",
       "        ...,\n",
       "\n",
       "\n",
       "        [[[-0.1263, -0.1733, -0.0000],\n",
       "          [-0.1173,  0.0000, -0.0000],\n",
       "          [ 0.0000,  0.1336, -0.0000]],\n",
       "\n",
       "         [[-0.0000, -0.0000, -0.1791],\n",
       "          [ 0.1134,  0.0000,  0.1807],\n",
       "          [ 0.0000, -0.0000, -0.0000]],\n",
       "\n",
       "         [[ 0.1695,  0.0000,  0.0000],\n",
       "          [ 0.1520, -0.1894, -0.0000],\n",
       "          [ 0.0000, -0.1647, -0.0000]]],\n",
       "\n",
       "\n",
       "        [[[-0.1282,  0.0000,  0.0000],\n",
       "          [ 0.0000,  0.0000, -0.0000],\n",
       "          [-0.0000, -0.1647, -0.0000]],\n",
       "\n",
       "         [[ 0.1054, -0.0000,  0.0000],\n",
       "          [ 0.0000,  0.0984, -0.1618],\n",
       "          [-0.0000,  0.1250,  0.0000]],\n",
       "\n",
       "         [[-0.0000,  0.0000,  0.0000],\n",
       "          [ 0.0000, -0.1406,  0.1344],\n",
       "          [ 0.0000, -0.0000, -0.0000]]],\n",
       "\n",
       "\n",
       "        [[[-0.0000,  0.1316,  0.0000],\n",
       "          [ 0.0000, -0.1566, -0.0000],\n",
       "          [ 0.1376,  0.1547, -0.1365]],\n",
       "\n",
       "         [[-0.0000,  0.1198, -0.0000],\n",
       "          [ 0.0000,  0.1364, -0.0000],\n",
       "          [ 0.0000, -0.1385, -0.0000]],\n",
       "\n",
       "         [[-0.0000,  0.0000, -0.0000],\n",
       "          [ 0.0000, -0.0000, -0.0000],\n",
       "          [ 0.0000, -0.0000, -0.1030]]]], grad_fn=<MulBackward0>)"
      ]
     },
     "execution_count": 25,
     "metadata": {},
     "output_type": "execute_result"
    }
   ],
   "source": [
    "conv1_1.weight"
   ]
  },
  {
   "cell_type": "code",
   "execution_count": 26,
   "metadata": {},
   "outputs": [
    {
     "data": {
      "text/plain": [
       "tensor([[[[1., 0., 0.],\n",
       "          [0., 0., 1.],\n",
       "          [0., 0., 1.]],\n",
       "\n",
       "         [[1., 0., 0.],\n",
       "          [1., 0., 0.],\n",
       "          [1., 0., 0.]],\n",
       "\n",
       "         [[0., 0., 0.],\n",
       "          [1., 0., 0.],\n",
       "          [0., 1., 1.]]],\n",
       "\n",
       "\n",
       "        [[[0., 0., 0.],\n",
       "          [1., 1., 0.],\n",
       "          [0., 1., 0.]],\n",
       "\n",
       "         [[0., 0., 0.],\n",
       "          [0., 0., 0.],\n",
       "          [0., 1., 0.]],\n",
       "\n",
       "         [[0., 0., 0.],\n",
       "          [0., 1., 1.],\n",
       "          [0., 0., 1.]]],\n",
       "\n",
       "\n",
       "        [[[0., 0., 0.],\n",
       "          [0., 1., 0.],\n",
       "          [0., 0., 0.]],\n",
       "\n",
       "         [[0., 0., 1.],\n",
       "          [0., 1., 0.],\n",
       "          [1., 1., 0.]],\n",
       "\n",
       "         [[0., 0., 1.],\n",
       "          [0., 0., 0.],\n",
       "          [0., 0., 0.]]],\n",
       "\n",
       "\n",
       "        ...,\n",
       "\n",
       "\n",
       "        [[[1., 1., 0.],\n",
       "          [1., 0., 0.],\n",
       "          [0., 1., 0.]],\n",
       "\n",
       "         [[0., 0., 1.],\n",
       "          [1., 0., 1.],\n",
       "          [0., 0., 0.]],\n",
       "\n",
       "         [[1., 0., 0.],\n",
       "          [1., 1., 0.],\n",
       "          [0., 1., 0.]]],\n",
       "\n",
       "\n",
       "        [[[1., 0., 0.],\n",
       "          [0., 0., 0.],\n",
       "          [0., 1., 0.]],\n",
       "\n",
       "         [[1., 0., 0.],\n",
       "          [0., 1., 1.],\n",
       "          [0., 1., 0.]],\n",
       "\n",
       "         [[0., 0., 0.],\n",
       "          [0., 1., 1.],\n",
       "          [0., 0., 0.]]],\n",
       "\n",
       "\n",
       "        [[[0., 1., 0.],\n",
       "          [0., 1., 0.],\n",
       "          [1., 1., 1.]],\n",
       "\n",
       "         [[0., 1., 0.],\n",
       "          [0., 1., 0.],\n",
       "          [0., 1., 0.]],\n",
       "\n",
       "         [[0., 0., 0.],\n",
       "          [0., 0., 0.],\n",
       "          [0., 0., 1.]]]])"
      ]
     },
     "execution_count": 26,
     "metadata": {},
     "output_type": "execute_result"
    }
   ],
   "source": [
    "conv1_1.weight_mask"
   ]
  }
 ],
 "metadata": {
  "kernelspec": {
   "display_name": "base",
   "language": "python",
   "name": "python3"
  },
  "language_info": {
   "codemirror_mode": {
    "name": "ipython",
    "version": 3
   },
   "file_extension": ".py",
   "mimetype": "text/x-python",
   "name": "python",
   "nbconvert_exporter": "python",
   "pygments_lexer": "ipython3",
   "version": "3.9.13"
  }
 },
 "nbformat": 4,
 "nbformat_minor": 2
}
